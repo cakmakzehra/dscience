{
 "cells": [
  {
   "cell_type": "code",
   "execution_count": 1,
   "metadata": {},
   "outputs": [],
   "source": [
    "import pandas as pd"
   ]
  },
  {
   "cell_type": "code",
   "execution_count": 2,
   "metadata": {},
   "outputs": [],
   "source": [
    "call_logs = pd.read_csv(\"call_logs.csv\")"
   ]
  },
  {
   "cell_type": "code",
   "execution_count": 3,
   "metadata": {},
   "outputs": [
    {
     "data": {
      "text/plain": [
       "(8144, 18)"
      ]
     },
     "execution_count": 3,
     "metadata": {},
     "output_type": "execute_result"
    }
   ],
   "source": [
    "call_logs.shape"
   ]
  },
  {
   "cell_type": "code",
   "execution_count": 4,
   "metadata": {
    "scrolled": true
   },
   "outputs": [
    {
     "data": {
      "text/html": [
       "<div>\n",
       "<style scoped>\n",
       "    .dataframe tbody tr th:only-of-type {\n",
       "        vertical-align: middle;\n",
       "    }\n",
       "\n",
       "    .dataframe tbody tr th {\n",
       "        vertical-align: top;\n",
       "    }\n",
       "\n",
       "    .dataframe thead th {\n",
       "        text-align: right;\n",
       "    }\n",
       "</style>\n",
       "<table border=\"1\" class=\"dataframe\">\n",
       "  <thead>\n",
       "    <tr style=\"text-align: right;\">\n",
       "      <th></th>\n",
       "      <th>call_date</th>\n",
       "      <th>call_key</th>\n",
       "      <th>inbound</th>\n",
       "      <th>queued</th>\n",
       "      <th>assigned</th>\n",
       "      <th>abandon</th>\n",
       "      <th>in_sl</th>\n",
       "      <th>short_call</th>\n",
       "      <th>transferred</th>\n",
       "      <th>answered</th>\n",
       "      <th>during_chat</th>\n",
       "      <th>black_list</th>\n",
       "      <th>ivr_duration</th>\n",
       "      <th>wait_duration</th>\n",
       "      <th>ring_duration</th>\n",
       "      <th>hold_duration</th>\n",
       "      <th>talk_duration</th>\n",
       "      <th>csat_score</th>\n",
       "    </tr>\n",
       "  </thead>\n",
       "  <tbody>\n",
       "    <tr>\n",
       "      <th>0</th>\n",
       "      <td>2020-11-25</td>\n",
       "      <td>ahRzfm11c3RlcmktaGl6bWV0bGVyaXIRCxIEQ2FsbBiAgM...</td>\n",
       "      <td>True</td>\n",
       "      <td>True</td>\n",
       "      <td>True</td>\n",
       "      <td>False</td>\n",
       "      <td>True</td>\n",
       "      <td>False</td>\n",
       "      <td>1</td>\n",
       "      <td>True</td>\n",
       "      <td>False</td>\n",
       "      <td>False</td>\n",
       "      <td>106</td>\n",
       "      <td>5</td>\n",
       "      <td>5</td>\n",
       "      <td>NaN</td>\n",
       "      <td>157.0</td>\n",
       "      <td>5</td>\n",
       "    </tr>\n",
       "    <tr>\n",
       "      <th>1</th>\n",
       "      <td>2020-11-25</td>\n",
       "      <td>ahRzfm11c3RlcmktaGl6bWV0bGVyaXIRCxIEQ2FsbBiAgM...</td>\n",
       "      <td>True</td>\n",
       "      <td>True</td>\n",
       "      <td>True</td>\n",
       "      <td>False</td>\n",
       "      <td>True</td>\n",
       "      <td>False</td>\n",
       "      <td>1</td>\n",
       "      <td>True</td>\n",
       "      <td>False</td>\n",
       "      <td>False</td>\n",
       "      <td>107</td>\n",
       "      <td>10</td>\n",
       "      <td>10</td>\n",
       "      <td>NaN</td>\n",
       "      <td>113.0</td>\n",
       "      <td>5</td>\n",
       "    </tr>\n",
       "    <tr>\n",
       "      <th>2</th>\n",
       "      <td>2020-11-25</td>\n",
       "      <td>ahRzfm11c3RlcmktaGl6bWV0bGVyaXIRCxIEQ2FsbBiAgM...</td>\n",
       "      <td>True</td>\n",
       "      <td>True</td>\n",
       "      <td>True</td>\n",
       "      <td>False</td>\n",
       "      <td>True</td>\n",
       "      <td>False</td>\n",
       "      <td>1</td>\n",
       "      <td>True</td>\n",
       "      <td>False</td>\n",
       "      <td>False</td>\n",
       "      <td>117</td>\n",
       "      <td>26</td>\n",
       "      <td>5</td>\n",
       "      <td>NaN</td>\n",
       "      <td>121.0</td>\n",
       "      <td>5</td>\n",
       "    </tr>\n",
       "    <tr>\n",
       "      <th>3</th>\n",
       "      <td>2020-11-25</td>\n",
       "      <td>ahRzfm11c3RlcmktaGl6bWV0bGVyaXIRCxIEQ2FsbBiAgM...</td>\n",
       "      <td>True</td>\n",
       "      <td>True</td>\n",
       "      <td>True</td>\n",
       "      <td>False</td>\n",
       "      <td>True</td>\n",
       "      <td>False</td>\n",
       "      <td>0</td>\n",
       "      <td>True</td>\n",
       "      <td>False</td>\n",
       "      <td>False</td>\n",
       "      <td>120</td>\n",
       "      <td>18</td>\n",
       "      <td>17</td>\n",
       "      <td>415.0</td>\n",
       "      <td>1314.0</td>\n",
       "      <td>5</td>\n",
       "    </tr>\n",
       "    <tr>\n",
       "      <th>4</th>\n",
       "      <td>2020-11-25</td>\n",
       "      <td>ahRzfm11c3RlcmktaGl6bWV0bGVyaXIRCxIEQ2FsbBiAgM...</td>\n",
       "      <td>True</td>\n",
       "      <td>True</td>\n",
       "      <td>True</td>\n",
       "      <td>False</td>\n",
       "      <td>True</td>\n",
       "      <td>False</td>\n",
       "      <td>0</td>\n",
       "      <td>True</td>\n",
       "      <td>False</td>\n",
       "      <td>False</td>\n",
       "      <td>98</td>\n",
       "      <td>6</td>\n",
       "      <td>6</td>\n",
       "      <td>NaN</td>\n",
       "      <td>212.0</td>\n",
       "      <td>5</td>\n",
       "    </tr>\n",
       "  </tbody>\n",
       "</table>\n",
       "</div>"
      ],
      "text/plain": [
       "    call_date                                           call_key  inbound  \\\n",
       "0  2020-11-25  ahRzfm11c3RlcmktaGl6bWV0bGVyaXIRCxIEQ2FsbBiAgM...     True   \n",
       "1  2020-11-25  ahRzfm11c3RlcmktaGl6bWV0bGVyaXIRCxIEQ2FsbBiAgM...     True   \n",
       "2  2020-11-25  ahRzfm11c3RlcmktaGl6bWV0bGVyaXIRCxIEQ2FsbBiAgM...     True   \n",
       "3  2020-11-25  ahRzfm11c3RlcmktaGl6bWV0bGVyaXIRCxIEQ2FsbBiAgM...     True   \n",
       "4  2020-11-25  ahRzfm11c3RlcmktaGl6bWV0bGVyaXIRCxIEQ2FsbBiAgM...     True   \n",
       "\n",
       "   queued  assigned  abandon in_sl  short_call  transferred  answered  \\\n",
       "0    True      True    False  True       False            1      True   \n",
       "1    True      True    False  True       False            1      True   \n",
       "2    True      True    False  True       False            1      True   \n",
       "3    True      True    False  True       False            0      True   \n",
       "4    True      True    False  True       False            0      True   \n",
       "\n",
       "  during_chat  black_list  ivr_duration  wait_duration  ring_duration  \\\n",
       "0       False       False           106              5              5   \n",
       "1       False       False           107             10             10   \n",
       "2       False       False           117             26              5   \n",
       "3       False       False           120             18             17   \n",
       "4       False       False            98              6              6   \n",
       "\n",
       "   hold_duration  talk_duration  csat_score  \n",
       "0            NaN          157.0           5  \n",
       "1            NaN          113.0           5  \n",
       "2            NaN          121.0           5  \n",
       "3          415.0         1314.0           5  \n",
       "4            NaN          212.0           5  "
      ]
     },
     "execution_count": 4,
     "metadata": {},
     "output_type": "execute_result"
    }
   ],
   "source": [
    "call_logs.head()"
   ]
  },
  {
   "cell_type": "code",
   "execution_count": 5,
   "metadata": {},
   "outputs": [],
   "source": [
    "call_evaluations = pd.read_csv(\"evaluation_logs.csv\")"
   ]
  },
  {
   "cell_type": "code",
   "execution_count": 6,
   "metadata": {},
   "outputs": [
    {
     "data": {
      "text/plain": [
       "(167, 2)"
      ]
     },
     "execution_count": 6,
     "metadata": {},
     "output_type": "execute_result"
    }
   ],
   "source": [
    "call_evaluations.shape"
   ]
  },
  {
   "cell_type": "code",
   "execution_count": 7,
   "metadata": {},
   "outputs": [
    {
     "data": {
      "text/html": [
       "<div>\n",
       "<style scoped>\n",
       "    .dataframe tbody tr th:only-of-type {\n",
       "        vertical-align: middle;\n",
       "    }\n",
       "\n",
       "    .dataframe tbody tr th {\n",
       "        vertical-align: top;\n",
       "    }\n",
       "\n",
       "    .dataframe thead th {\n",
       "        text-align: right;\n",
       "    }\n",
       "</style>\n",
       "<table border=\"1\" class=\"dataframe\">\n",
       "  <thead>\n",
       "    <tr style=\"text-align: right;\">\n",
       "      <th></th>\n",
       "      <th>call_key</th>\n",
       "      <th>evaluation_score</th>\n",
       "    </tr>\n",
       "  </thead>\n",
       "  <tbody>\n",
       "    <tr>\n",
       "      <th>0</th>\n",
       "      <td>ahRzfm11c3RlcmktaGl6bWV0bGVyaXIRCxIEQ2FsbBiAgI...</td>\n",
       "      <td>100.0</td>\n",
       "    </tr>\n",
       "    <tr>\n",
       "      <th>1</th>\n",
       "      <td>ahRzfm11c3RlcmktaGl6bWV0bGVyaXIRCxIEQ2FsbBiAgI...</td>\n",
       "      <td>92.0</td>\n",
       "    </tr>\n",
       "    <tr>\n",
       "      <th>2</th>\n",
       "      <td>ahRzfm11c3RlcmktaGl6bWV0bGVyaXIRCxIEQ2FsbBiAgI...</td>\n",
       "      <td>100.0</td>\n",
       "    </tr>\n",
       "    <tr>\n",
       "      <th>3</th>\n",
       "      <td>ahRzfm11c3RlcmktaGl6bWV0bGVyaXIRCxIEQ2FsbBiAgI...</td>\n",
       "      <td>97.5</td>\n",
       "    </tr>\n",
       "    <tr>\n",
       "      <th>4</th>\n",
       "      <td>ahRzfm11c3RlcmktaGl6bWV0bGVyaXIRCxIEQ2FsbBiAgI...</td>\n",
       "      <td>80.5</td>\n",
       "    </tr>\n",
       "    <tr>\n",
       "      <th>...</th>\n",
       "      <td>...</td>\n",
       "      <td>...</td>\n",
       "    </tr>\n",
       "    <tr>\n",
       "      <th>156</th>\n",
       "      <td>ahRzfm11c3RlcmktaGl6bWV0bGVyaXIRCxIEQ2FsbBiAgO...</td>\n",
       "      <td>70.0</td>\n",
       "    </tr>\n",
       "    <tr>\n",
       "      <th>157</th>\n",
       "      <td>ahRzfm11c3RlcmktaGl6bWV0bGVyaXIRCxIEQ2FsbBiAgP...</td>\n",
       "      <td>93.0</td>\n",
       "    </tr>\n",
       "    <tr>\n",
       "      <th>158</th>\n",
       "      <td>ahRzfm11c3RlcmktaGl6bWV0bGVyaXIRCxIEQ2FsbBiAgP...</td>\n",
       "      <td>87.0</td>\n",
       "    </tr>\n",
       "    <tr>\n",
       "      <th>159</th>\n",
       "      <td>ahRzfm11c3RlcmktaGl6bWV0bGVyaXIRCxIEQ2FsbBiAgP...</td>\n",
       "      <td>81.0</td>\n",
       "    </tr>\n",
       "    <tr>\n",
       "      <th>160</th>\n",
       "      <td>ahRzfm11c3RlcmktaGl6bWV0bGVyaXIRCxIEQ2FsbBiAgP...</td>\n",
       "      <td>91.5</td>\n",
       "    </tr>\n",
       "  </tbody>\n",
       "</table>\n",
       "<p>161 rows × 2 columns</p>\n",
       "</div>"
      ],
      "text/plain": [
       "                                              call_key  evaluation_score\n",
       "0    ahRzfm11c3RlcmktaGl6bWV0bGVyaXIRCxIEQ2FsbBiAgI...             100.0\n",
       "1    ahRzfm11c3RlcmktaGl6bWV0bGVyaXIRCxIEQ2FsbBiAgI...              92.0\n",
       "2    ahRzfm11c3RlcmktaGl6bWV0bGVyaXIRCxIEQ2FsbBiAgI...             100.0\n",
       "3    ahRzfm11c3RlcmktaGl6bWV0bGVyaXIRCxIEQ2FsbBiAgI...              97.5\n",
       "4    ahRzfm11c3RlcmktaGl6bWV0bGVyaXIRCxIEQ2FsbBiAgI...              80.5\n",
       "..                                                 ...               ...\n",
       "156  ahRzfm11c3RlcmktaGl6bWV0bGVyaXIRCxIEQ2FsbBiAgO...              70.0\n",
       "157  ahRzfm11c3RlcmktaGl6bWV0bGVyaXIRCxIEQ2FsbBiAgP...              93.0\n",
       "158  ahRzfm11c3RlcmktaGl6bWV0bGVyaXIRCxIEQ2FsbBiAgP...              87.0\n",
       "159  ahRzfm11c3RlcmktaGl6bWV0bGVyaXIRCxIEQ2FsbBiAgP...              81.0\n",
       "160  ahRzfm11c3RlcmktaGl6bWV0bGVyaXIRCxIEQ2FsbBiAgP...              91.5\n",
       "\n",
       "[161 rows x 2 columns]"
      ]
     },
     "execution_count": 7,
     "metadata": {},
     "output_type": "execute_result"
    }
   ],
   "source": [
    "call_evaluations = call_evaluations.groupby('call_key', as_index=False).mean()\n",
    "call_evaluations"
   ]
  },
  {
   "cell_type": "code",
   "execution_count": 8,
   "metadata": {},
   "outputs": [],
   "source": [
    "data = pd.merge(call_logs, call_evaluations, on='call_key', how='left')"
   ]
  },
  {
   "cell_type": "code",
   "execution_count": 9,
   "metadata": {},
   "outputs": [
    {
     "data": {
      "text/plain": [
       "7986"
      ]
     },
     "execution_count": 9,
     "metadata": {},
     "output_type": "execute_result"
    }
   ],
   "source": [
    "data['evaluation_score'].isnull().sum().sum()"
   ]
  },
  {
   "cell_type": "code",
   "execution_count": 10,
   "metadata": {},
   "outputs": [
    {
     "data": {
      "text/plain": [
       "(8144, 19)"
      ]
     },
     "execution_count": 10,
     "metadata": {},
     "output_type": "execute_result"
    }
   ],
   "source": [
    "data.shape"
   ]
  },
  {
   "cell_type": "code",
   "execution_count": 11,
   "metadata": {},
   "outputs": [
    {
     "data": {
      "text/html": [
       "<div>\n",
       "<style scoped>\n",
       "    .dataframe tbody tr th:only-of-type {\n",
       "        vertical-align: middle;\n",
       "    }\n",
       "\n",
       "    .dataframe tbody tr th {\n",
       "        vertical-align: top;\n",
       "    }\n",
       "\n",
       "    .dataframe thead th {\n",
       "        text-align: right;\n",
       "    }\n",
       "</style>\n",
       "<table border=\"1\" class=\"dataframe\">\n",
       "  <thead>\n",
       "    <tr style=\"text-align: right;\">\n",
       "      <th></th>\n",
       "      <th>call_date</th>\n",
       "      <th>call_key</th>\n",
       "      <th>inbound</th>\n",
       "      <th>queued</th>\n",
       "      <th>assigned</th>\n",
       "      <th>abandon</th>\n",
       "      <th>in_sl</th>\n",
       "      <th>short_call</th>\n",
       "      <th>transferred</th>\n",
       "      <th>answered</th>\n",
       "      <th>during_chat</th>\n",
       "      <th>black_list</th>\n",
       "      <th>ivr_duration</th>\n",
       "      <th>wait_duration</th>\n",
       "      <th>ring_duration</th>\n",
       "      <th>hold_duration</th>\n",
       "      <th>talk_duration</th>\n",
       "      <th>csat_score</th>\n",
       "      <th>evaluation_score</th>\n",
       "    </tr>\n",
       "  </thead>\n",
       "  <tbody>\n",
       "    <tr>\n",
       "      <th>0</th>\n",
       "      <td>2020-11-25</td>\n",
       "      <td>ahRzfm11c3RlcmktaGl6bWV0bGVyaXIRCxIEQ2FsbBiAgM...</td>\n",
       "      <td>True</td>\n",
       "      <td>True</td>\n",
       "      <td>True</td>\n",
       "      <td>False</td>\n",
       "      <td>True</td>\n",
       "      <td>False</td>\n",
       "      <td>1</td>\n",
       "      <td>True</td>\n",
       "      <td>False</td>\n",
       "      <td>False</td>\n",
       "      <td>106</td>\n",
       "      <td>5</td>\n",
       "      <td>5</td>\n",
       "      <td>NaN</td>\n",
       "      <td>157.0</td>\n",
       "      <td>5</td>\n",
       "      <td>NaN</td>\n",
       "    </tr>\n",
       "    <tr>\n",
       "      <th>1</th>\n",
       "      <td>2020-11-25</td>\n",
       "      <td>ahRzfm11c3RlcmktaGl6bWV0bGVyaXIRCxIEQ2FsbBiAgM...</td>\n",
       "      <td>True</td>\n",
       "      <td>True</td>\n",
       "      <td>True</td>\n",
       "      <td>False</td>\n",
       "      <td>True</td>\n",
       "      <td>False</td>\n",
       "      <td>1</td>\n",
       "      <td>True</td>\n",
       "      <td>False</td>\n",
       "      <td>False</td>\n",
       "      <td>107</td>\n",
       "      <td>10</td>\n",
       "      <td>10</td>\n",
       "      <td>NaN</td>\n",
       "      <td>113.0</td>\n",
       "      <td>5</td>\n",
       "      <td>NaN</td>\n",
       "    </tr>\n",
       "    <tr>\n",
       "      <th>2</th>\n",
       "      <td>2020-11-25</td>\n",
       "      <td>ahRzfm11c3RlcmktaGl6bWV0bGVyaXIRCxIEQ2FsbBiAgM...</td>\n",
       "      <td>True</td>\n",
       "      <td>True</td>\n",
       "      <td>True</td>\n",
       "      <td>False</td>\n",
       "      <td>True</td>\n",
       "      <td>False</td>\n",
       "      <td>1</td>\n",
       "      <td>True</td>\n",
       "      <td>False</td>\n",
       "      <td>False</td>\n",
       "      <td>117</td>\n",
       "      <td>26</td>\n",
       "      <td>5</td>\n",
       "      <td>NaN</td>\n",
       "      <td>121.0</td>\n",
       "      <td>5</td>\n",
       "      <td>NaN</td>\n",
       "    </tr>\n",
       "    <tr>\n",
       "      <th>3</th>\n",
       "      <td>2020-11-25</td>\n",
       "      <td>ahRzfm11c3RlcmktaGl6bWV0bGVyaXIRCxIEQ2FsbBiAgM...</td>\n",
       "      <td>True</td>\n",
       "      <td>True</td>\n",
       "      <td>True</td>\n",
       "      <td>False</td>\n",
       "      <td>True</td>\n",
       "      <td>False</td>\n",
       "      <td>0</td>\n",
       "      <td>True</td>\n",
       "      <td>False</td>\n",
       "      <td>False</td>\n",
       "      <td>120</td>\n",
       "      <td>18</td>\n",
       "      <td>17</td>\n",
       "      <td>415.0</td>\n",
       "      <td>1314.0</td>\n",
       "      <td>5</td>\n",
       "      <td>NaN</td>\n",
       "    </tr>\n",
       "    <tr>\n",
       "      <th>4</th>\n",
       "      <td>2020-11-25</td>\n",
       "      <td>ahRzfm11c3RlcmktaGl6bWV0bGVyaXIRCxIEQ2FsbBiAgM...</td>\n",
       "      <td>True</td>\n",
       "      <td>True</td>\n",
       "      <td>True</td>\n",
       "      <td>False</td>\n",
       "      <td>True</td>\n",
       "      <td>False</td>\n",
       "      <td>0</td>\n",
       "      <td>True</td>\n",
       "      <td>False</td>\n",
       "      <td>False</td>\n",
       "      <td>98</td>\n",
       "      <td>6</td>\n",
       "      <td>6</td>\n",
       "      <td>NaN</td>\n",
       "      <td>212.0</td>\n",
       "      <td>5</td>\n",
       "      <td>NaN</td>\n",
       "    </tr>\n",
       "  </tbody>\n",
       "</table>\n",
       "</div>"
      ],
      "text/plain": [
       "    call_date                                           call_key  inbound  \\\n",
       "0  2020-11-25  ahRzfm11c3RlcmktaGl6bWV0bGVyaXIRCxIEQ2FsbBiAgM...     True   \n",
       "1  2020-11-25  ahRzfm11c3RlcmktaGl6bWV0bGVyaXIRCxIEQ2FsbBiAgM...     True   \n",
       "2  2020-11-25  ahRzfm11c3RlcmktaGl6bWV0bGVyaXIRCxIEQ2FsbBiAgM...     True   \n",
       "3  2020-11-25  ahRzfm11c3RlcmktaGl6bWV0bGVyaXIRCxIEQ2FsbBiAgM...     True   \n",
       "4  2020-11-25  ahRzfm11c3RlcmktaGl6bWV0bGVyaXIRCxIEQ2FsbBiAgM...     True   \n",
       "\n",
       "   queued  assigned  abandon in_sl  short_call  transferred  answered  \\\n",
       "0    True      True    False  True       False            1      True   \n",
       "1    True      True    False  True       False            1      True   \n",
       "2    True      True    False  True       False            1      True   \n",
       "3    True      True    False  True       False            0      True   \n",
       "4    True      True    False  True       False            0      True   \n",
       "\n",
       "  during_chat  black_list  ivr_duration  wait_duration  ring_duration  \\\n",
       "0       False       False           106              5              5   \n",
       "1       False       False           107             10             10   \n",
       "2       False       False           117             26              5   \n",
       "3       False       False           120             18             17   \n",
       "4       False       False            98              6              6   \n",
       "\n",
       "   hold_duration  talk_duration  csat_score  evaluation_score  \n",
       "0            NaN          157.0           5               NaN  \n",
       "1            NaN          113.0           5               NaN  \n",
       "2            NaN          121.0           5               NaN  \n",
       "3          415.0         1314.0           5               NaN  \n",
       "4            NaN          212.0           5               NaN  "
      ]
     },
     "execution_count": 11,
     "metadata": {},
     "output_type": "execute_result"
    }
   ],
   "source": [
    "data.head()"
   ]
  },
  {
   "cell_type": "code",
   "execution_count": 12,
   "metadata": {},
   "outputs": [
    {
     "data": {
      "text/plain": [
       "0.5504666011787819"
      ]
     },
     "execution_count": 12,
     "metadata": {},
     "output_type": "execute_result"
    }
   ],
   "source": [
    "missing_percent = data['hold_duration'].isnull().mean()\n",
    "missing_percent"
   ]
  },
  {
   "cell_type": "code",
   "execution_count": 13,
   "metadata": {},
   "outputs": [],
   "source": [
    "data['hold_duration'] = data['hold_duration'].fillna(data['hold_duration'].mean()).astype(int)"
   ]
  },
  {
   "cell_type": "code",
   "execution_count": 14,
   "metadata": {},
   "outputs": [
    {
     "data": {
      "text/plain": [
       "30.0"
      ]
     },
     "execution_count": 14,
     "metadata": {},
     "output_type": "execute_result"
    }
   ],
   "source": [
    "min_evaluation_score = data['evaluation_score'].min(axis=0, skipna=True)\n",
    "min_evaluation_score"
   ]
  },
  {
   "cell_type": "code",
   "execution_count": 15,
   "metadata": {},
   "outputs": [],
   "source": [
    "finish = pd.to_datetime(data['call_date'].max(), format='%Y-%m-%d', errors='raise')"
   ]
  },
  {
   "cell_type": "code",
   "execution_count": 16,
   "metadata": {},
   "outputs": [],
   "source": [
    "start = pd.to_datetime(data['call_date'].min(), format='%Y-%m-%d', errors='raise')"
   ]
  },
  {
   "cell_type": "code",
   "execution_count": 17,
   "metadata": {},
   "outputs": [
    {
     "data": {
      "text/plain": [
       "1230"
      ]
     },
     "execution_count": 17,
     "metadata": {},
     "output_type": "execute_result"
    }
   ],
   "source": [
    "timediff = finish - start\n",
    "timediff.days + 1"
   ]
  },
  {
   "cell_type": "code",
   "execution_count": 18,
   "metadata": {},
   "outputs": [
    {
     "data": {
      "text/plain": [
       "False    5688\n",
       "Name: during_chat, dtype: int64"
      ]
     },
     "execution_count": 18,
     "metadata": {},
     "output_type": "execute_result"
    }
   ],
   "source": [
    "data.during_chat.value_counts()"
   ]
  },
  {
   "cell_type": "code",
   "execution_count": 19,
   "metadata": {},
   "outputs": [
    {
     "data": {
      "text/plain": [
       "False    8144\n",
       "Name: short_call, dtype: int64"
      ]
     },
     "execution_count": 19,
     "metadata": {},
     "output_type": "execute_result"
    }
   ],
   "source": [
    "data.short_call.value_counts()"
   ]
  },
  {
   "cell_type": "code",
   "execution_count": 20,
   "metadata": {},
   "outputs": [
    {
     "data": {
      "text/plain": [
       "False    8144\n",
       "Name: black_list, dtype: int64"
      ]
     },
     "execution_count": 20,
     "metadata": {},
     "output_type": "execute_result"
    }
   ],
   "source": [
    "data.black_list.value_counts()"
   ]
  },
  {
   "cell_type": "code",
   "execution_count": 21,
   "metadata": {},
   "outputs": [
    {
     "data": {
      "text/plain": [
       "True    8144\n",
       "Name: queued, dtype: int64"
      ]
     },
     "execution_count": 21,
     "metadata": {},
     "output_type": "execute_result"
    }
   ],
   "source": [
    "data.queued.value_counts()"
   ]
  },
  {
   "cell_type": "code",
   "execution_count": 22,
   "metadata": {},
   "outputs": [],
   "source": [
    "data.drop(['during_chat', 'short_call', 'black_list', 'queued'], axis=1, inplace=True)"
   ]
  },
  {
   "cell_type": "code",
   "execution_count": 23,
   "metadata": {},
   "outputs": [],
   "source": [
    "data['in_sl'].fillna(value=False, inplace=True)"
   ]
  },
  {
   "cell_type": "code",
   "execution_count": 24,
   "metadata": {},
   "outputs": [
    {
     "data": {
      "text/plain": [
       "7994"
      ]
     },
     "execution_count": 24,
     "metadata": {},
     "output_type": "execute_result"
    }
   ],
   "source": [
    "data.isnull().sum().sum()"
   ]
  },
  {
   "cell_type": "code",
   "execution_count": 25,
   "metadata": {},
   "outputs": [
    {
     "data": {
      "text/html": [
       "<div>\n",
       "<style scoped>\n",
       "    .dataframe tbody tr th:only-of-type {\n",
       "        vertical-align: middle;\n",
       "    }\n",
       "\n",
       "    .dataframe tbody tr th {\n",
       "        vertical-align: top;\n",
       "    }\n",
       "\n",
       "    .dataframe thead th {\n",
       "        text-align: right;\n",
       "    }\n",
       "</style>\n",
       "<table border=\"1\" class=\"dataframe\">\n",
       "  <thead>\n",
       "    <tr style=\"text-align: right;\">\n",
       "      <th></th>\n",
       "      <th>call_date</th>\n",
       "      <th>call_key</th>\n",
       "      <th>inbound</th>\n",
       "      <th>assigned</th>\n",
       "      <th>abandon</th>\n",
       "      <th>in_sl</th>\n",
       "      <th>transferred</th>\n",
       "      <th>answered</th>\n",
       "      <th>ivr_duration</th>\n",
       "      <th>wait_duration</th>\n",
       "      <th>ring_duration</th>\n",
       "      <th>hold_duration</th>\n",
       "      <th>talk_duration</th>\n",
       "      <th>csat_score</th>\n",
       "      <th>evaluation_score</th>\n",
       "    </tr>\n",
       "  </thead>\n",
       "  <tbody>\n",
       "    <tr>\n",
       "      <th>5001</th>\n",
       "      <td>2017-09-22</td>\n",
       "      <td>ahRzfm11c3RlcmktaGl6bWV0bGVyaXIRCxIEQ2FsbBiAgK...</td>\n",
       "      <td>True</td>\n",
       "      <td>False</td>\n",
       "      <td>True</td>\n",
       "      <td>False</td>\n",
       "      <td>0</td>\n",
       "      <td>False</td>\n",
       "      <td>419</td>\n",
       "      <td>280</td>\n",
       "      <td>0</td>\n",
       "      <td>76</td>\n",
       "      <td>NaN</td>\n",
       "      <td>1</td>\n",
       "      <td>NaN</td>\n",
       "    </tr>\n",
       "    <tr>\n",
       "      <th>5042</th>\n",
       "      <td>2018-09-01</td>\n",
       "      <td>ahRzfm11c3RlcmktaGl6bWV0bGVyaXIRCxIEQ2FsbBiAgO...</td>\n",
       "      <td>True</td>\n",
       "      <td>True</td>\n",
       "      <td>True</td>\n",
       "      <td>False</td>\n",
       "      <td>0</td>\n",
       "      <td>False</td>\n",
       "      <td>193</td>\n",
       "      <td>122</td>\n",
       "      <td>0</td>\n",
       "      <td>299</td>\n",
       "      <td>NaN</td>\n",
       "      <td>1</td>\n",
       "      <td>NaN</td>\n",
       "    </tr>\n",
       "    <tr>\n",
       "      <th>5136</th>\n",
       "      <td>2017-12-22</td>\n",
       "      <td>ahRzfm11c3RlcmktaGl6bWV0bGVyaXIRCxIEQ2FsbBiAgK...</td>\n",
       "      <td>True</td>\n",
       "      <td>True</td>\n",
       "      <td>True</td>\n",
       "      <td>False</td>\n",
       "      <td>0</td>\n",
       "      <td>False</td>\n",
       "      <td>950</td>\n",
       "      <td>883</td>\n",
       "      <td>0</td>\n",
       "      <td>299</td>\n",
       "      <td>NaN</td>\n",
       "      <td>1</td>\n",
       "      <td>NaN</td>\n",
       "    </tr>\n",
       "    <tr>\n",
       "      <th>5253</th>\n",
       "      <td>2018-08-26</td>\n",
       "      <td>ahRzfm11c3RlcmktaGl6bWV0bGVyaXIRCxIEQ2FsbBiAgO...</td>\n",
       "      <td>True</td>\n",
       "      <td>True</td>\n",
       "      <td>True</td>\n",
       "      <td>False</td>\n",
       "      <td>0</td>\n",
       "      <td>False</td>\n",
       "      <td>1041</td>\n",
       "      <td>975</td>\n",
       "      <td>0</td>\n",
       "      <td>299</td>\n",
       "      <td>NaN</td>\n",
       "      <td>1</td>\n",
       "      <td>NaN</td>\n",
       "    </tr>\n",
       "    <tr>\n",
       "      <th>5254</th>\n",
       "      <td>2018-08-26</td>\n",
       "      <td>ahRzfm11c3RlcmktaGl6bWV0bGVyaXIRCxIEQ2FsbBiAgO...</td>\n",
       "      <td>True</td>\n",
       "      <td>True</td>\n",
       "      <td>True</td>\n",
       "      <td>False</td>\n",
       "      <td>0</td>\n",
       "      <td>False</td>\n",
       "      <td>394</td>\n",
       "      <td>324</td>\n",
       "      <td>0</td>\n",
       "      <td>299</td>\n",
       "      <td>NaN</td>\n",
       "      <td>1</td>\n",
       "      <td>NaN</td>\n",
       "    </tr>\n",
       "    <tr>\n",
       "      <th>5364</th>\n",
       "      <td>2017-11-07</td>\n",
       "      <td>ahRzfm11c3RlcmktaGl6bWV0bGVyaXIRCxIEQ2FsbBiAgK...</td>\n",
       "      <td>True</td>\n",
       "      <td>True</td>\n",
       "      <td>True</td>\n",
       "      <td>False</td>\n",
       "      <td>0</td>\n",
       "      <td>False</td>\n",
       "      <td>118</td>\n",
       "      <td>45</td>\n",
       "      <td>0</td>\n",
       "      <td>299</td>\n",
       "      <td>NaN</td>\n",
       "      <td>1</td>\n",
       "      <td>NaN</td>\n",
       "    </tr>\n",
       "    <tr>\n",
       "      <th>5410</th>\n",
       "      <td>2018-03-05</td>\n",
       "      <td>ahRzfm11c3RlcmktaGl6bWV0bGVyaXIRCxIEQ2FsbBiAgO...</td>\n",
       "      <td>True</td>\n",
       "      <td>True</td>\n",
       "      <td>True</td>\n",
       "      <td>False</td>\n",
       "      <td>0</td>\n",
       "      <td>False</td>\n",
       "      <td>238</td>\n",
       "      <td>168</td>\n",
       "      <td>0</td>\n",
       "      <td>299</td>\n",
       "      <td>NaN</td>\n",
       "      <td>1</td>\n",
       "      <td>NaN</td>\n",
       "    </tr>\n",
       "    <tr>\n",
       "      <th>5768</th>\n",
       "      <td>2018-08-15</td>\n",
       "      <td>ahRzfm11c3RlcmktaGl6bWV0bGVyaXIRCxIEQ2FsbBiAgO...</td>\n",
       "      <td>True</td>\n",
       "      <td>True</td>\n",
       "      <td>True</td>\n",
       "      <td>False</td>\n",
       "      <td>0</td>\n",
       "      <td>False</td>\n",
       "      <td>472</td>\n",
       "      <td>410</td>\n",
       "      <td>0</td>\n",
       "      <td>299</td>\n",
       "      <td>NaN</td>\n",
       "      <td>1</td>\n",
       "      <td>NaN</td>\n",
       "    </tr>\n",
       "  </tbody>\n",
       "</table>\n",
       "</div>"
      ],
      "text/plain": [
       "       call_date                                           call_key  inbound  \\\n",
       "5001  2017-09-22  ahRzfm11c3RlcmktaGl6bWV0bGVyaXIRCxIEQ2FsbBiAgK...     True   \n",
       "5042  2018-09-01  ahRzfm11c3RlcmktaGl6bWV0bGVyaXIRCxIEQ2FsbBiAgO...     True   \n",
       "5136  2017-12-22  ahRzfm11c3RlcmktaGl6bWV0bGVyaXIRCxIEQ2FsbBiAgK...     True   \n",
       "5253  2018-08-26  ahRzfm11c3RlcmktaGl6bWV0bGVyaXIRCxIEQ2FsbBiAgO...     True   \n",
       "5254  2018-08-26  ahRzfm11c3RlcmktaGl6bWV0bGVyaXIRCxIEQ2FsbBiAgO...     True   \n",
       "5364  2017-11-07  ahRzfm11c3RlcmktaGl6bWV0bGVyaXIRCxIEQ2FsbBiAgK...     True   \n",
       "5410  2018-03-05  ahRzfm11c3RlcmktaGl6bWV0bGVyaXIRCxIEQ2FsbBiAgO...     True   \n",
       "5768  2018-08-15  ahRzfm11c3RlcmktaGl6bWV0bGVyaXIRCxIEQ2FsbBiAgO...     True   \n",
       "\n",
       "      assigned  abandon  in_sl  transferred  answered  ivr_duration  \\\n",
       "5001     False     True  False            0     False           419   \n",
       "5042      True     True  False            0     False           193   \n",
       "5136      True     True  False            0     False           950   \n",
       "5253      True     True  False            0     False          1041   \n",
       "5254      True     True  False            0     False           394   \n",
       "5364      True     True  False            0     False           118   \n",
       "5410      True     True  False            0     False           238   \n",
       "5768      True     True  False            0     False           472   \n",
       "\n",
       "      wait_duration  ring_duration  hold_duration  talk_duration  csat_score  \\\n",
       "5001            280              0             76            NaN           1   \n",
       "5042            122              0            299            NaN           1   \n",
       "5136            883              0            299            NaN           1   \n",
       "5253            975              0            299            NaN           1   \n",
       "5254            324              0            299            NaN           1   \n",
       "5364             45              0            299            NaN           1   \n",
       "5410            168              0            299            NaN           1   \n",
       "5768            410              0            299            NaN           1   \n",
       "\n",
       "      evaluation_score  \n",
       "5001               NaN  \n",
       "5042               NaN  \n",
       "5136               NaN  \n",
       "5253               NaN  \n",
       "5254               NaN  \n",
       "5364               NaN  \n",
       "5410               NaN  \n",
       "5768               NaN  "
      ]
     },
     "execution_count": 25,
     "metadata": {},
     "output_type": "execute_result"
    }
   ],
   "source": [
    "data[data[\"talk_duration\"].isnull()]"
   ]
  },
  {
   "cell_type": "code",
   "execution_count": 26,
   "metadata": {},
   "outputs": [],
   "source": [
    "data['talk_duration'] = data['talk_duration'].fillna(0).astype(int)"
   ]
  },
  {
   "cell_type": "code",
   "execution_count": 27,
   "metadata": {},
   "outputs": [],
   "source": [
    "data.drop(['call_date', 'call_key'], axis=1, inplace=True)"
   ]
  },
  {
   "cell_type": "code",
   "execution_count": 28,
   "metadata": {},
   "outputs": [
    {
     "data": {
      "text/plain": [
       "evaluation_score\n",
       "30.00      1\n",
       "42.00      1\n",
       "49.00      1\n",
       "55.00      1\n",
       "60.00      1\n",
       "65.00      2\n",
       "69.50      1\n",
       "70.00      3\n",
       "73.00      1\n",
       "74.00      1\n",
       "77.00      1\n",
       "77.50      1\n",
       "80.00      2\n",
       "80.50      4\n",
       "81.00      2\n",
       "82.00      1\n",
       "82.50      1\n",
       "84.00      1\n",
       "85.00      3\n",
       "87.00      5\n",
       "88.50      4\n",
       "89.25      1\n",
       "91.00      4\n",
       "91.50      1\n",
       "92.00      2\n",
       "92.50      1\n",
       "93.00      1\n",
       "93.50      7\n",
       "94.00      1\n",
       "95.00      9\n",
       "95.50      1\n",
       "97.00      4\n",
       "97.50     11\n",
       "98.00      4\n",
       "98.50      1\n",
       "99.00      1\n",
       "100.00    71\n",
       "Name: evaluation_score, dtype: int64"
      ]
     },
     "execution_count": 28,
     "metadata": {},
     "output_type": "execute_result"
    }
   ],
   "source": [
    "grouped = data['evaluation_score'].groupby(data['evaluation_score'])\n",
    "data_evaluation = grouped.count()\n",
    "data_evaluation"
   ]
  },
  {
   "cell_type": "code",
   "execution_count": 29,
   "metadata": {},
   "outputs": [
    {
     "data": {
      "text/plain": [
       "158"
      ]
     },
     "execution_count": 29,
     "metadata": {},
     "output_type": "execute_result"
    }
   ],
   "source": [
    "evaluated_data_count = data[data['evaluation_score']>0].shape[0]\n",
    "evaluated_data_count"
   ]
  },
  {
   "cell_type": "code",
   "execution_count": 30,
   "metadata": {},
   "outputs": [],
   "source": [
    "from sklearn.utils import shuffle\n",
    "data = shuffle(data)"
   ]
  },
  {
   "cell_type": "code",
   "execution_count": 31,
   "metadata": {},
   "outputs": [],
   "source": [
    "data.reset_index(drop=True, inplace=True)"
   ]
  },
  {
   "cell_type": "code",
   "execution_count": 32,
   "metadata": {},
   "outputs": [
    {
     "data": {
      "text/html": [
       "<div>\n",
       "<style scoped>\n",
       "    .dataframe tbody tr th:only-of-type {\n",
       "        vertical-align: middle;\n",
       "    }\n",
       "\n",
       "    .dataframe tbody tr th {\n",
       "        vertical-align: top;\n",
       "    }\n",
       "\n",
       "    .dataframe thead th {\n",
       "        text-align: right;\n",
       "    }\n",
       "</style>\n",
       "<table border=\"1\" class=\"dataframe\">\n",
       "  <thead>\n",
       "    <tr style=\"text-align: right;\">\n",
       "      <th></th>\n",
       "      <th>inbound</th>\n",
       "      <th>assigned</th>\n",
       "      <th>abandon</th>\n",
       "      <th>in_sl</th>\n",
       "      <th>transferred</th>\n",
       "      <th>answered</th>\n",
       "      <th>ivr_duration</th>\n",
       "      <th>wait_duration</th>\n",
       "      <th>ring_duration</th>\n",
       "      <th>hold_duration</th>\n",
       "      <th>talk_duration</th>\n",
       "      <th>csat_score</th>\n",
       "      <th>evaluation_score</th>\n",
       "    </tr>\n",
       "  </thead>\n",
       "  <tbody>\n",
       "    <tr>\n",
       "      <th>0</th>\n",
       "      <td>True</td>\n",
       "      <td>True</td>\n",
       "      <td>False</td>\n",
       "      <td>True</td>\n",
       "      <td>1</td>\n",
       "      <td>True</td>\n",
       "      <td>141</td>\n",
       "      <td>6</td>\n",
       "      <td>5</td>\n",
       "      <td>299</td>\n",
       "      <td>100</td>\n",
       "      <td>5</td>\n",
       "      <td>NaN</td>\n",
       "    </tr>\n",
       "    <tr>\n",
       "      <th>1</th>\n",
       "      <td>True</td>\n",
       "      <td>True</td>\n",
       "      <td>False</td>\n",
       "      <td>False</td>\n",
       "      <td>0</td>\n",
       "      <td>True</td>\n",
       "      <td>408</td>\n",
       "      <td>337</td>\n",
       "      <td>3</td>\n",
       "      <td>299</td>\n",
       "      <td>97</td>\n",
       "      <td>1</td>\n",
       "      <td>NaN</td>\n",
       "    </tr>\n",
       "    <tr>\n",
       "      <th>2</th>\n",
       "      <td>True</td>\n",
       "      <td>True</td>\n",
       "      <td>False</td>\n",
       "      <td>False</td>\n",
       "      <td>0</td>\n",
       "      <td>True</td>\n",
       "      <td>154</td>\n",
       "      <td>115</td>\n",
       "      <td>7</td>\n",
       "      <td>393</td>\n",
       "      <td>428</td>\n",
       "      <td>1</td>\n",
       "      <td>NaN</td>\n",
       "    </tr>\n",
       "    <tr>\n",
       "      <th>3</th>\n",
       "      <td>True</td>\n",
       "      <td>True</td>\n",
       "      <td>False</td>\n",
       "      <td>True</td>\n",
       "      <td>0</td>\n",
       "      <td>True</td>\n",
       "      <td>90</td>\n",
       "      <td>12</td>\n",
       "      <td>12</td>\n",
       "      <td>299</td>\n",
       "      <td>222</td>\n",
       "      <td>5</td>\n",
       "      <td>NaN</td>\n",
       "    </tr>\n",
       "    <tr>\n",
       "      <th>4</th>\n",
       "      <td>True</td>\n",
       "      <td>True</td>\n",
       "      <td>False</td>\n",
       "      <td>True</td>\n",
       "      <td>0</td>\n",
       "      <td>True</td>\n",
       "      <td>89</td>\n",
       "      <td>11</td>\n",
       "      <td>11</td>\n",
       "      <td>299</td>\n",
       "      <td>74</td>\n",
       "      <td>4</td>\n",
       "      <td>NaN</td>\n",
       "    </tr>\n",
       "    <tr>\n",
       "      <th>5</th>\n",
       "      <td>True</td>\n",
       "      <td>True</td>\n",
       "      <td>False</td>\n",
       "      <td>True</td>\n",
       "      <td>0</td>\n",
       "      <td>True</td>\n",
       "      <td>70</td>\n",
       "      <td>7</td>\n",
       "      <td>6</td>\n",
       "      <td>299</td>\n",
       "      <td>256</td>\n",
       "      <td>5</td>\n",
       "      <td>NaN</td>\n",
       "    </tr>\n",
       "    <tr>\n",
       "      <th>6</th>\n",
       "      <td>True</td>\n",
       "      <td>True</td>\n",
       "      <td>False</td>\n",
       "      <td>True</td>\n",
       "      <td>0</td>\n",
       "      <td>True</td>\n",
       "      <td>91</td>\n",
       "      <td>6</td>\n",
       "      <td>6</td>\n",
       "      <td>299</td>\n",
       "      <td>104</td>\n",
       "      <td>5</td>\n",
       "      <td>NaN</td>\n",
       "    </tr>\n",
       "    <tr>\n",
       "      <th>7</th>\n",
       "      <td>True</td>\n",
       "      <td>True</td>\n",
       "      <td>False</td>\n",
       "      <td>True</td>\n",
       "      <td>0</td>\n",
       "      <td>True</td>\n",
       "      <td>79</td>\n",
       "      <td>5</td>\n",
       "      <td>5</td>\n",
       "      <td>317</td>\n",
       "      <td>467</td>\n",
       "      <td>5</td>\n",
       "      <td>NaN</td>\n",
       "    </tr>\n",
       "    <tr>\n",
       "      <th>8</th>\n",
       "      <td>True</td>\n",
       "      <td>True</td>\n",
       "      <td>False</td>\n",
       "      <td>True</td>\n",
       "      <td>0</td>\n",
       "      <td>True</td>\n",
       "      <td>69</td>\n",
       "      <td>21</td>\n",
       "      <td>6</td>\n",
       "      <td>299</td>\n",
       "      <td>1920</td>\n",
       "      <td>2</td>\n",
       "      <td>NaN</td>\n",
       "    </tr>\n",
       "    <tr>\n",
       "      <th>9</th>\n",
       "      <td>True</td>\n",
       "      <td>True</td>\n",
       "      <td>False</td>\n",
       "      <td>True</td>\n",
       "      <td>0</td>\n",
       "      <td>True</td>\n",
       "      <td>69</td>\n",
       "      <td>9</td>\n",
       "      <td>9</td>\n",
       "      <td>299</td>\n",
       "      <td>106</td>\n",
       "      <td>5</td>\n",
       "      <td>NaN</td>\n",
       "    </tr>\n",
       "    <tr>\n",
       "      <th>10</th>\n",
       "      <td>True</td>\n",
       "      <td>True</td>\n",
       "      <td>False</td>\n",
       "      <td>False</td>\n",
       "      <td>0</td>\n",
       "      <td>True</td>\n",
       "      <td>197</td>\n",
       "      <td>120</td>\n",
       "      <td>6</td>\n",
       "      <td>237</td>\n",
       "      <td>429</td>\n",
       "      <td>5</td>\n",
       "      <td>NaN</td>\n",
       "    </tr>\n",
       "    <tr>\n",
       "      <th>11</th>\n",
       "      <td>True</td>\n",
       "      <td>True</td>\n",
       "      <td>False</td>\n",
       "      <td>True</td>\n",
       "      <td>0</td>\n",
       "      <td>True</td>\n",
       "      <td>49</td>\n",
       "      <td>11</td>\n",
       "      <td>11</td>\n",
       "      <td>299</td>\n",
       "      <td>182</td>\n",
       "      <td>1</td>\n",
       "      <td>NaN</td>\n",
       "    </tr>\n",
       "    <tr>\n",
       "      <th>12</th>\n",
       "      <td>True</td>\n",
       "      <td>True</td>\n",
       "      <td>False</td>\n",
       "      <td>True</td>\n",
       "      <td>3</td>\n",
       "      <td>True</td>\n",
       "      <td>122</td>\n",
       "      <td>8</td>\n",
       "      <td>8</td>\n",
       "      <td>649</td>\n",
       "      <td>1232</td>\n",
       "      <td>5</td>\n",
       "      <td>NaN</td>\n",
       "    </tr>\n",
       "    <tr>\n",
       "      <th>13</th>\n",
       "      <td>True</td>\n",
       "      <td>True</td>\n",
       "      <td>False</td>\n",
       "      <td>True</td>\n",
       "      <td>0</td>\n",
       "      <td>True</td>\n",
       "      <td>66</td>\n",
       "      <td>8</td>\n",
       "      <td>7</td>\n",
       "      <td>299</td>\n",
       "      <td>249</td>\n",
       "      <td>5</td>\n",
       "      <td>NaN</td>\n",
       "    </tr>\n",
       "    <tr>\n",
       "      <th>14</th>\n",
       "      <td>True</td>\n",
       "      <td>True</td>\n",
       "      <td>False</td>\n",
       "      <td>True</td>\n",
       "      <td>0</td>\n",
       "      <td>True</td>\n",
       "      <td>148</td>\n",
       "      <td>6</td>\n",
       "      <td>6</td>\n",
       "      <td>752</td>\n",
       "      <td>1198</td>\n",
       "      <td>5</td>\n",
       "      <td>NaN</td>\n",
       "    </tr>\n",
       "  </tbody>\n",
       "</table>\n",
       "</div>"
      ],
      "text/plain": [
       "    inbound  assigned  abandon  in_sl  transferred  answered  ivr_duration  \\\n",
       "0      True      True    False   True            1      True           141   \n",
       "1      True      True    False  False            0      True           408   \n",
       "2      True      True    False  False            0      True           154   \n",
       "3      True      True    False   True            0      True            90   \n",
       "4      True      True    False   True            0      True            89   \n",
       "5      True      True    False   True            0      True            70   \n",
       "6      True      True    False   True            0      True            91   \n",
       "7      True      True    False   True            0      True            79   \n",
       "8      True      True    False   True            0      True            69   \n",
       "9      True      True    False   True            0      True            69   \n",
       "10     True      True    False  False            0      True           197   \n",
       "11     True      True    False   True            0      True            49   \n",
       "12     True      True    False   True            3      True           122   \n",
       "13     True      True    False   True            0      True            66   \n",
       "14     True      True    False   True            0      True           148   \n",
       "\n",
       "    wait_duration  ring_duration  hold_duration  talk_duration  csat_score  \\\n",
       "0               6              5            299            100           5   \n",
       "1             337              3            299             97           1   \n",
       "2             115              7            393            428           1   \n",
       "3              12             12            299            222           5   \n",
       "4              11             11            299             74           4   \n",
       "5               7              6            299            256           5   \n",
       "6               6              6            299            104           5   \n",
       "7               5              5            317            467           5   \n",
       "8              21              6            299           1920           2   \n",
       "9               9              9            299            106           5   \n",
       "10            120              6            237            429           5   \n",
       "11             11             11            299            182           1   \n",
       "12              8              8            649           1232           5   \n",
       "13              8              7            299            249           5   \n",
       "14              6              6            752           1198           5   \n",
       "\n",
       "    evaluation_score  \n",
       "0                NaN  \n",
       "1                NaN  \n",
       "2                NaN  \n",
       "3                NaN  \n",
       "4                NaN  \n",
       "5                NaN  \n",
       "6                NaN  \n",
       "7                NaN  \n",
       "8                NaN  \n",
       "9                NaN  \n",
       "10               NaN  \n",
       "11               NaN  \n",
       "12               NaN  \n",
       "13               NaN  \n",
       "14               NaN  "
      ]
     },
     "execution_count": 32,
     "metadata": {},
     "output_type": "execute_result"
    }
   ],
   "source": [
    "data.head(15)"
   ]
  },
  {
   "cell_type": "code",
   "execution_count": 33,
   "metadata": {},
   "outputs": [],
   "source": [
    "import matplotlib.pyplot as plt"
   ]
  },
  {
   "cell_type": "code",
   "execution_count": 34,
   "metadata": {},
   "outputs": [
    {
     "data": {
      "image/png": "[encoded data removed]",
      "text/plain": [
       "<Figure size 600x400 with 1 Axes>"
      ]
     },
     "metadata": {
      "needs_background": "light"
     },
     "output_type": "display_data"
    }
   ],
   "source": [
    "plt.figure(dpi=100)\n",
    "plt.plot(data[\"wait_duration\"])\n",
    "plt.plot(data[\"ring_duration\"])\n",
    "\n",
    "plt.legend([\"wait_duration\", \"ring_duration\"])\n",
    "plt.xticks(rotation='vertical')\n",
    "\n",
    "plt.show()"
   ]
  },
  {
   "cell_type": "code",
   "execution_count": 35,
   "metadata": {},
   "outputs": [
    {
     "data": {
      "image/png": "[encoded data removed]",
      "text/plain": [
       "<Figure size 600x400 with 1 Axes>"
      ]
     },
     "metadata": {
      "needs_background": "light"
     },
     "output_type": "display_data"
    }
   ],
   "source": [
    "plt.figure(dpi=100)\n",
    "\n",
    "plt.bar(data_evaluation.index, data_evaluation, color='green')\n",
    "plt.grid(color='#95a5a6', linestyle='--', linewidth=2, axis='y', alpha=0.3)\n",
    "\n",
    "plt.show()"
   ]
  },
  {
   "cell_type": "code",
   "execution_count": 36,
   "metadata": {},
   "outputs": [
    {
     "data": {
      "text/plain": [
       "['evaluation_score']"
      ]
     },
     "execution_count": 36,
     "metadata": {},
     "output_type": "execute_result"
    }
   ],
   "source": [
    "missing_percent = data.isnull().mean()\n",
    "drop_cols = list(data.columns[missing_percent > 0.1])\n",
    "drop_cols"
   ]
  },
  {
   "cell_type": "code",
   "execution_count": 37,
   "metadata": {},
   "outputs": [],
   "source": [
    "data.drop(drop_cols, axis=1, inplace=True)"
   ]
  },
  {
   "cell_type": "code",
   "execution_count": 38,
   "metadata": {},
   "outputs": [
    {
     "data": {
      "text/plain": [
       "5    4430\n",
       "1    2305\n",
       "4     815\n",
       "3     365\n",
       "2     229\n",
       "Name: csat_score, dtype: int64"
      ]
     },
     "execution_count": 38,
     "metadata": {},
     "output_type": "execute_result"
    }
   ],
   "source": [
    "score_data = data.csat_score.value_counts()\n",
    "score_data"
   ]
  },
  {
   "cell_type": "code",
   "execution_count": 39,
   "metadata": {},
   "outputs": [
    {
     "data": {
      "image/png": "[encoded data removed]",
      "text/plain": [
       "<Figure size 900x600 with 1 Axes>"
      ]
     },
     "metadata": {},
     "output_type": "display_data"
    }
   ],
   "source": [
    "plt.figure(dpi=150)\n",
    "\n",
    "plt.pie(score_data, labels= score_data.index, autopct='%0.1f%%')\n",
    "#plt.legend()\n",
    "\n",
    "plt.show()"
   ]
  },
  {
   "cell_type": "code",
   "execution_count": 40,
   "metadata": {},
   "outputs": [],
   "source": [
    "from sklearn.model_selection import cross_val_score"
   ]
  },
  {
   "cell_type": "code",
   "execution_count": 41,
   "metadata": {},
   "outputs": [],
   "source": [
    "X = data.drop(\"csat_score\", axis = 1)\n",
    "y = data[\"csat_score\"]"
   ]
  },
  {
   "cell_type": "code",
   "execution_count": 42,
   "metadata": {},
   "outputs": [
    {
     "data": {
      "text/html": [
       "<div>\n",
       "<style scoped>\n",
       "    .dataframe tbody tr th:only-of-type {\n",
       "        vertical-align: middle;\n",
       "    }\n",
       "\n",
       "    .dataframe tbody tr th {\n",
       "        vertical-align: top;\n",
       "    }\n",
       "\n",
       "    .dataframe thead th {\n",
       "        text-align: right;\n",
       "    }\n",
       "</style>\n",
       "<table border=\"1\" class=\"dataframe\">\n",
       "  <thead>\n",
       "    <tr style=\"text-align: right;\">\n",
       "      <th></th>\n",
       "      <th>Score Mean</th>\n",
       "      <th>Score Std</th>\n",
       "    </tr>\n",
       "  </thead>\n",
       "  <tbody>\n",
       "    <tr>\n",
       "      <th>Support Vector Machine</th>\n",
       "      <td>0.7123</td>\n",
       "      <td>0.011993</td>\n",
       "    </tr>\n",
       "  </tbody>\n",
       "</table>\n",
       "</div>"
      ],
      "text/plain": [
       "                        Score Mean  Score Std\n",
       "Support Vector Machine      0.7123   0.011993"
      ]
     },
     "execution_count": 42,
     "metadata": {},
     "output_type": "execute_result"
    }
   ],
   "source": [
    "from sklearn.svm import SVC\n",
    "\n",
    "svm= SVC(kernel=\"rbf\")\n",
    "scores = cross_val_score(svm,X,y,cv = 10)\n",
    "\n",
    "results = pd.DataFrame({\"Score Mean\":scores.mean(),\"Score Std\":scores.std()},\n",
    "                       index = [\"Support Vector Machine\"])\n",
    "results"
   ]
  },
  {
   "cell_type": "code",
   "execution_count": 43,
   "metadata": {},
   "outputs": [
    {
     "data": {
      "text/html": [
       "<div>\n",
       "<style scoped>\n",
       "    .dataframe tbody tr th:only-of-type {\n",
       "        vertical-align: middle;\n",
       "    }\n",
       "\n",
       "    .dataframe tbody tr th {\n",
       "        vertical-align: top;\n",
       "    }\n",
       "\n",
       "    .dataframe thead th {\n",
       "        text-align: right;\n",
       "    }\n",
       "</style>\n",
       "<table border=\"1\" class=\"dataframe\">\n",
       "  <thead>\n",
       "    <tr style=\"text-align: right;\">\n",
       "      <th></th>\n",
       "      <th>Score Mean</th>\n",
       "      <th>Score Std</th>\n",
       "    </tr>\n",
       "  </thead>\n",
       "  <tbody>\n",
       "    <tr>\n",
       "      <th>Support Vector Machine</th>\n",
       "      <td>0.712300</td>\n",
       "      <td>0.011993</td>\n",
       "    </tr>\n",
       "    <tr>\n",
       "      <th>Decision Tree</th>\n",
       "      <td>0.598225</td>\n",
       "      <td>0.018489</td>\n",
       "    </tr>\n",
       "  </tbody>\n",
       "</table>\n",
       "</div>"
      ],
      "text/plain": [
       "                        Score Mean  Score Std\n",
       "Support Vector Machine    0.712300   0.011993\n",
       "Decision Tree             0.598225   0.018489"
      ]
     },
     "execution_count": 43,
     "metadata": {},
     "output_type": "execute_result"
    }
   ],
   "source": [
    "from sklearn.tree import DecisionTreeClassifier\n",
    "\n",
    "dtc = DecisionTreeClassifier(criterion=\"entropy\")\n",
    "scores = cross_val_score(dtc,X,y,cv = 10)\n",
    "\n",
    "results_dtc = pd.DataFrame({\"Score Mean\":scores.mean(),\"Score Std\":scores.std()},\n",
    "                       index = [\"Decision Tree\"])\n",
    "results = results.append(results_dtc)\n",
    "results"
   ]
  },
  {
   "cell_type": "code",
   "execution_count": 44,
   "metadata": {},
   "outputs": [
    {
     "data": {
      "text/html": [
       "<div>\n",
       "<style scoped>\n",
       "    .dataframe tbody tr th:only-of-type {\n",
       "        vertical-align: middle;\n",
       "    }\n",
       "\n",
       "    .dataframe tbody tr th {\n",
       "        vertical-align: top;\n",
       "    }\n",
       "\n",
       "    .dataframe thead th {\n",
       "        text-align: right;\n",
       "    }\n",
       "</style>\n",
       "<table border=\"1\" class=\"dataframe\">\n",
       "  <thead>\n",
       "    <tr style=\"text-align: right;\">\n",
       "      <th></th>\n",
       "      <th>Score Mean</th>\n",
       "      <th>Score Std</th>\n",
       "    </tr>\n",
       "  </thead>\n",
       "  <tbody>\n",
       "    <tr>\n",
       "      <th>Support Vector Machine</th>\n",
       "      <td>0.712300</td>\n",
       "      <td>0.011993</td>\n",
       "    </tr>\n",
       "    <tr>\n",
       "      <th>Decision Tree</th>\n",
       "      <td>0.598225</td>\n",
       "      <td>0.018489</td>\n",
       "    </tr>\n",
       "    <tr>\n",
       "      <th>Random Forest</th>\n",
       "      <td>0.693638</td>\n",
       "      <td>0.013560</td>\n",
       "    </tr>\n",
       "  </tbody>\n",
       "</table>\n",
       "</div>"
      ],
      "text/plain": [
       "                        Score Mean  Score Std\n",
       "Support Vector Machine    0.712300   0.011993\n",
       "Decision Tree             0.598225   0.018489\n",
       "Random Forest             0.693638   0.013560"
      ]
     },
     "execution_count": 44,
     "metadata": {},
     "output_type": "execute_result"
    }
   ],
   "source": [
    "from sklearn.ensemble import RandomForestClassifier\n",
    "\n",
    "rfc = RandomForestClassifier(n_estimators=10, criterion=\"entropy\")\n",
    "scores = cross_val_score(rfc,X,y,cv = 10)\n",
    "\n",
    "results_rfc = pd.DataFrame({\"Score Mean\":scores.mean(),\"Score Std\":scores.std()},\n",
    "                       index = [\"Random Forest\"])\n",
    "results = results.append(results_rfc)\n",
    "results"
   ]
  },
  {
   "cell_type": "code",
   "execution_count": 45,
   "metadata": {},
   "outputs": [
    {
     "data": {
      "text/html": [
       "<div>\n",
       "<style scoped>\n",
       "    .dataframe tbody tr th:only-of-type {\n",
       "        vertical-align: middle;\n",
       "    }\n",
       "\n",
       "    .dataframe tbody tr th {\n",
       "        vertical-align: top;\n",
       "    }\n",
       "\n",
       "    .dataframe thead th {\n",
       "        text-align: right;\n",
       "    }\n",
       "</style>\n",
       "<table border=\"1\" class=\"dataframe\">\n",
       "  <thead>\n",
       "    <tr style=\"text-align: right;\">\n",
       "      <th></th>\n",
       "      <th>Score Mean</th>\n",
       "      <th>Score Std</th>\n",
       "    </tr>\n",
       "  </thead>\n",
       "  <tbody>\n",
       "    <tr>\n",
       "      <th>Support Vector Machine</th>\n",
       "      <td>0.712300</td>\n",
       "      <td>0.011993</td>\n",
       "    </tr>\n",
       "    <tr>\n",
       "      <th>Decision Tree</th>\n",
       "      <td>0.598225</td>\n",
       "      <td>0.018489</td>\n",
       "    </tr>\n",
       "    <tr>\n",
       "      <th>Random Forest</th>\n",
       "      <td>0.693638</td>\n",
       "      <td>0.013560</td>\n",
       "    </tr>\n",
       "    <tr>\n",
       "      <th>K-Neighbors</th>\n",
       "      <td>0.711440</td>\n",
       "      <td>0.013181</td>\n",
       "    </tr>\n",
       "  </tbody>\n",
       "</table>\n",
       "</div>"
      ],
      "text/plain": [
       "                        Score Mean  Score Std\n",
       "Support Vector Machine    0.712300   0.011993\n",
       "Decision Tree             0.598225   0.018489\n",
       "Random Forest             0.693638   0.013560\n",
       "K-Neighbors               0.711440   0.013181"
      ]
     },
     "execution_count": 45,
     "metadata": {},
     "output_type": "execute_result"
    }
   ],
   "source": [
    "from sklearn.neighbors import KNeighborsClassifier\n",
    "\n",
    "knn = KNeighborsClassifier(n_neighbors=25)\n",
    "scores = cross_val_score(knn,X,y,cv = 10)\n",
    "\n",
    "results_knn = pd.DataFrame({\"Score Mean\":scores.mean(),\"Score Std\":scores.std()},\n",
    "                       index = [\"K-Neighbors\"])\n",
    "results = results.append(results_knn)\n",
    "results"
   ]
  },
  {
   "cell_type": "code",
   "execution_count": null,
   "metadata": {},
   "outputs": [],
   "source": []
  }
 ],
 "metadata": {
  "kernelspec": {
   "display_name": "Python 3",
   "language": "python",
   "name": "python3"
  },
  "language_info": {
   "codemirror_mode": {
    "name": "ipython",
    "version": 3
   },
   "file_extension": ".py",
   "mimetype": "text/x-python",
   "name": "python",
   "nbconvert_exporter": "python",
   "pygments_lexer": "ipython3",
   "version": "3.8.5"
  }
 },
 "nbformat": 4,
 "nbformat_minor": 4
}
